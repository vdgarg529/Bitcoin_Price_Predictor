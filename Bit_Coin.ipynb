{
 "cells": [
  {
   "cell_type": "code",
   "execution_count": 1,
   "metadata": {
    "id": "dl9rQsU_yCGV"
   },
   "outputs": [],
   "source": [
    "import pandas as pd\n",
    "import numpy as np\n"
   ]
  },
  {
   "cell_type": "code",
   "execution_count": 2,
   "metadata": {
    "id": "A2TXH_Adjp-R"
   },
   "outputs": [],
   "source": [
    "df = pd.read_csv(\"BTC.csv\")"
   ]
  },
  {
   "cell_type": "code",
   "execution_count": 3,
   "metadata": {
    "colab": {
     "base_uri": "https://localhost:8080/",
     "height": 266
    },
    "id": "4aqeTRdZkAjY",
    "outputId": "3f7fbab3-4523-4766-98bf-4c4fb788759f"
   },
   "outputs": [
    {
     "data": {
      "text/html": [
       "<div>\n",
       "<style scoped>\n",
       "    .dataframe tbody tr th:only-of-type {\n",
       "        vertical-align: middle;\n",
       "    }\n",
       "\n",
       "    .dataframe tbody tr th {\n",
       "        vertical-align: top;\n",
       "    }\n",
       "\n",
       "    .dataframe thead th {\n",
       "        text-align: right;\n",
       "    }\n",
       "</style>\n",
       "<table border=\"1\" class=\"dataframe\">\n",
       "  <thead>\n",
       "    <tr style=\"text-align: right;\">\n",
       "      <th></th>\n",
       "      <th>Currency</th>\n",
       "      <th>Date</th>\n",
       "      <th>Closing Price (USD)</th>\n",
       "      <th>24h Open (USD)</th>\n",
       "      <th>24h High (USD)</th>\n",
       "      <th>24h Low (USD)</th>\n",
       "    </tr>\n",
       "  </thead>\n",
       "  <tbody>\n",
       "    <tr>\n",
       "      <th>2785</th>\n",
       "      <td>BTC</td>\n",
       "      <td>2021-05-18</td>\n",
       "      <td>43144.471291</td>\n",
       "      <td>46439.336570</td>\n",
       "      <td>46622.853437</td>\n",
       "      <td>42102.346430</td>\n",
       "    </tr>\n",
       "    <tr>\n",
       "      <th>2786</th>\n",
       "      <td>BTC</td>\n",
       "      <td>2021-05-19</td>\n",
       "      <td>43196.046480</td>\n",
       "      <td>43559.597561</td>\n",
       "      <td>45850.231665</td>\n",
       "      <td>42469.975570</td>\n",
       "    </tr>\n",
       "    <tr>\n",
       "      <th>2787</th>\n",
       "      <td>BTC</td>\n",
       "      <td>2021-05-20</td>\n",
       "      <td>39439.237635</td>\n",
       "      <td>42920.748859</td>\n",
       "      <td>43604.569586</td>\n",
       "      <td>30201.957317</td>\n",
       "    </tr>\n",
       "    <tr>\n",
       "      <th>2788</th>\n",
       "      <td>BTC</td>\n",
       "      <td>2021-05-21</td>\n",
       "      <td>39756.089849</td>\n",
       "      <td>36795.422984</td>\n",
       "      <td>42589.863965</td>\n",
       "      <td>35670.948379</td>\n",
       "    </tr>\n",
       "    <tr>\n",
       "      <th>2789</th>\n",
       "      <td>BTC</td>\n",
       "      <td>2021-05-22</td>\n",
       "      <td>36921.767808</td>\n",
       "      <td>40685.325138</td>\n",
       "      <td>42278.005178</td>\n",
       "      <td>33594.958899</td>\n",
       "    </tr>\n",
       "    <tr>\n",
       "      <th>2790</th>\n",
       "      <td>BTC</td>\n",
       "      <td>2021-05-23</td>\n",
       "      <td>37490.941888</td>\n",
       "      <td>37359.782014</td>\n",
       "      <td>38889.859694</td>\n",
       "      <td>35304.227598</td>\n",
       "    </tr>\n",
       "    <tr>\n",
       "      <th>2791</th>\n",
       "      <td>BTC</td>\n",
       "      <td>2021-05-24</td>\n",
       "      <td>34259.548416</td>\n",
       "      <td>37521.890770</td>\n",
       "      <td>38267.299279</td>\n",
       "      <td>31179.690362</td>\n",
       "    </tr>\n",
       "  </tbody>\n",
       "</table>\n",
       "</div>"
      ],
      "text/plain": [
       "     Currency        Date  Closing Price (USD)  24h Open (USD)  \\\n",
       "2785      BTC  2021-05-18         43144.471291    46439.336570   \n",
       "2786      BTC  2021-05-19         43196.046480    43559.597561   \n",
       "2787      BTC  2021-05-20         39439.237635    42920.748859   \n",
       "2788      BTC  2021-05-21         39756.089849    36795.422984   \n",
       "2789      BTC  2021-05-22         36921.767808    40685.325138   \n",
       "2790      BTC  2021-05-23         37490.941888    37359.782014   \n",
       "2791      BTC  2021-05-24         34259.548416    37521.890770   \n",
       "\n",
       "      24h High (USD)  24h Low (USD)  \n",
       "2785    46622.853437   42102.346430  \n",
       "2786    45850.231665   42469.975570  \n",
       "2787    43604.569586   30201.957317  \n",
       "2788    42589.863965   35670.948379  \n",
       "2789    42278.005178   33594.958899  \n",
       "2790    38889.859694   35304.227598  \n",
       "2791    38267.299279   31179.690362  "
      ]
     },
     "execution_count": 3,
     "metadata": {},
     "output_type": "execute_result"
    }
   ],
   "source": [
    "df.tail(7)"
   ]
  },
  {
   "cell_type": "code",
   "execution_count": 4,
   "metadata": {
    "id": "T4Onh2QKkCJp"
   },
   "outputs": [],
   "source": [
    "data=pd.DataFrame(df[\"Closing Price (USD)\"])\n",
    "data.rename(columns={'Closing Price (USD)':'Price'},inplace=True)"
   ]
  },
  {
   "cell_type": "code",
   "execution_count": 5,
   "metadata": {
    "colab": {
     "base_uri": "https://localhost:8080/",
     "height": 419
    },
    "id": "0habu_YikvWw",
    "outputId": "38ec1a69-c9ad-4f50-ac3c-b42c1066ce9f"
   },
   "outputs": [
    {
     "data": {
      "text/html": [
       "<div>\n",
       "<style scoped>\n",
       "    .dataframe tbody tr th:only-of-type {\n",
       "        vertical-align: middle;\n",
       "    }\n",
       "\n",
       "    .dataframe tbody tr th {\n",
       "        vertical-align: top;\n",
       "    }\n",
       "\n",
       "    .dataframe thead th {\n",
       "        text-align: right;\n",
       "    }\n",
       "</style>\n",
       "<table border=\"1\" class=\"dataframe\">\n",
       "  <thead>\n",
       "    <tr style=\"text-align: right;\">\n",
       "      <th></th>\n",
       "      <th>Price</th>\n",
       "    </tr>\n",
       "  </thead>\n",
       "  <tbody>\n",
       "    <tr>\n",
       "      <th>0</th>\n",
       "      <td>123.654990</td>\n",
       "    </tr>\n",
       "    <tr>\n",
       "      <th>1</th>\n",
       "      <td>125.455000</td>\n",
       "    </tr>\n",
       "    <tr>\n",
       "      <th>2</th>\n",
       "      <td>108.584830</td>\n",
       "    </tr>\n",
       "    <tr>\n",
       "      <th>3</th>\n",
       "      <td>118.674660</td>\n",
       "    </tr>\n",
       "    <tr>\n",
       "      <th>4</th>\n",
       "      <td>121.338660</td>\n",
       "    </tr>\n",
       "    <tr>\n",
       "      <th>...</th>\n",
       "      <td>...</td>\n",
       "    </tr>\n",
       "    <tr>\n",
       "      <th>2787</th>\n",
       "      <td>39439.237635</td>\n",
       "    </tr>\n",
       "    <tr>\n",
       "      <th>2788</th>\n",
       "      <td>39756.089849</td>\n",
       "    </tr>\n",
       "    <tr>\n",
       "      <th>2789</th>\n",
       "      <td>36921.767808</td>\n",
       "    </tr>\n",
       "    <tr>\n",
       "      <th>2790</th>\n",
       "      <td>37490.941888</td>\n",
       "    </tr>\n",
       "    <tr>\n",
       "      <th>2791</th>\n",
       "      <td>34259.548416</td>\n",
       "    </tr>\n",
       "  </tbody>\n",
       "</table>\n",
       "<p>2792 rows × 1 columns</p>\n",
       "</div>"
      ],
      "text/plain": [
       "             Price\n",
       "0       123.654990\n",
       "1       125.455000\n",
       "2       108.584830\n",
       "3       118.674660\n",
       "4       121.338660\n",
       "...            ...\n",
       "2787  39439.237635\n",
       "2788  39756.089849\n",
       "2789  36921.767808\n",
       "2790  37490.941888\n",
       "2791  34259.548416\n",
       "\n",
       "[2792 rows x 1 columns]"
      ]
     },
     "execution_count": 5,
     "metadata": {},
     "output_type": "execute_result"
    }
   ],
   "source": [
    "data"
   ]
  },
  {
   "cell_type": "code",
   "execution_count": 6,
   "metadata": {
    "id": "iIuRwc3hpiWo"
   },
   "outputs": [],
   "source": [
    "prediction_days=30\n",
    "data['Prediction']=data[['Price']].shift(-prediction_days)"
   ]
  },
  {
   "cell_type": "code",
   "execution_count": 7,
   "metadata": {
    "colab": {
     "base_uri": "https://localhost:8080/",
     "height": 979
    },
    "id": "C5RddTQwp047",
    "outputId": "e46a9d53-e519-4f61-e25a-18c5a932d23d"
   },
   "outputs": [
    {
     "data": {
      "text/html": [
       "<div>\n",
       "<style scoped>\n",
       "    .dataframe tbody tr th:only-of-type {\n",
       "        vertical-align: middle;\n",
       "    }\n",
       "\n",
       "    .dataframe tbody tr th {\n",
       "        vertical-align: top;\n",
       "    }\n",
       "\n",
       "    .dataframe thead th {\n",
       "        text-align: right;\n",
       "    }\n",
       "</style>\n",
       "<table border=\"1\" class=\"dataframe\">\n",
       "  <thead>\n",
       "    <tr style=\"text-align: right;\">\n",
       "      <th></th>\n",
       "      <th>Price</th>\n",
       "      <th>Prediction</th>\n",
       "    </tr>\n",
       "  </thead>\n",
       "  <tbody>\n",
       "    <tr>\n",
       "      <th>0</th>\n",
       "      <td>123.65499</td>\n",
       "      <td>196.02499</td>\n",
       "    </tr>\n",
       "    <tr>\n",
       "      <th>1</th>\n",
       "      <td>125.45500</td>\n",
       "      <td>198.04883</td>\n",
       "    </tr>\n",
       "    <tr>\n",
       "      <th>2</th>\n",
       "      <td>108.58483</td>\n",
       "      <td>198.93233</td>\n",
       "    </tr>\n",
       "    <tr>\n",
       "      <th>3</th>\n",
       "      <td>118.67466</td>\n",
       "      <td>200.54300</td>\n",
       "    </tr>\n",
       "    <tr>\n",
       "      <th>4</th>\n",
       "      <td>121.33866</td>\n",
       "      <td>210.30750</td>\n",
       "    </tr>\n",
       "    <tr>\n",
       "      <th>5</th>\n",
       "      <td>120.65533</td>\n",
       "      <td>225.02000</td>\n",
       "    </tr>\n",
       "    <tr>\n",
       "      <th>6</th>\n",
       "      <td>121.79500</td>\n",
       "      <td>248.25333</td>\n",
       "    </tr>\n",
       "    <tr>\n",
       "      <th>7</th>\n",
       "      <td>123.03300</td>\n",
       "      <td>262.32666</td>\n",
       "    </tr>\n",
       "    <tr>\n",
       "      <th>8</th>\n",
       "      <td>124.04900</td>\n",
       "      <td>294.48699</td>\n",
       "    </tr>\n",
       "    <tr>\n",
       "      <th>9</th>\n",
       "      <td>125.96116</td>\n",
       "      <td>331.10325</td>\n",
       "    </tr>\n",
       "    <tr>\n",
       "      <th>10</th>\n",
       "      <td>125.27966</td>\n",
       "      <td>285.88750</td>\n",
       "    </tr>\n",
       "    <tr>\n",
       "      <th>11</th>\n",
       "      <td>125.92750</td>\n",
       "      <td>304.97974</td>\n",
       "    </tr>\n",
       "    <tr>\n",
       "      <th>12</th>\n",
       "      <td>126.38333</td>\n",
       "      <td>338.13700</td>\n",
       "    </tr>\n",
       "    <tr>\n",
       "      <th>13</th>\n",
       "      <td>135.24199</td>\n",
       "      <td>357.48000</td>\n",
       "    </tr>\n",
       "    <tr>\n",
       "      <th>14</th>\n",
       "      <td>133.20333</td>\n",
       "      <td>402.95400</td>\n",
       "    </tr>\n",
       "    <tr>\n",
       "      <th>15</th>\n",
       "      <td>142.76333</td>\n",
       "      <td>409.10375</td>\n",
       "    </tr>\n",
       "    <tr>\n",
       "      <th>16</th>\n",
       "      <td>137.92333</td>\n",
       "      <td>420.21649</td>\n",
       "    </tr>\n",
       "    <tr>\n",
       "      <th>17</th>\n",
       "      <td>142.95166</td>\n",
       "      <td>437.29725</td>\n",
       "    </tr>\n",
       "    <tr>\n",
       "      <th>18</th>\n",
       "      <td>152.55183</td>\n",
       "      <td>510.60250</td>\n",
       "    </tr>\n",
       "    <tr>\n",
       "      <th>19</th>\n",
       "      <td>160.33883</td>\n",
       "      <td>693.65000</td>\n",
       "    </tr>\n",
       "    <tr>\n",
       "      <th>20</th>\n",
       "      <td>164.31499</td>\n",
       "      <td>531.54249</td>\n",
       "    </tr>\n",
       "    <tr>\n",
       "      <th>21</th>\n",
       "      <td>177.63333</td>\n",
       "      <td>574.71599</td>\n",
       "    </tr>\n",
       "    <tr>\n",
       "      <th>22</th>\n",
       "      <td>188.29716</td>\n",
       "      <td>681.33000</td>\n",
       "    </tr>\n",
       "    <tr>\n",
       "      <th>23</th>\n",
       "      <td>200.70166</td>\n",
       "      <td>774.18000</td>\n",
       "    </tr>\n",
       "    <tr>\n",
       "      <th>24</th>\n",
       "      <td>180.35500</td>\n",
       "      <td>746.19374</td>\n",
       "    </tr>\n",
       "    <tr>\n",
       "      <th>25</th>\n",
       "      <td>175.03166</td>\n",
       "      <td>768.84750</td>\n",
       "    </tr>\n",
       "    <tr>\n",
       "      <th>26</th>\n",
       "      <td>177.69650</td>\n",
       "      <td>789.36475</td>\n",
       "    </tr>\n",
       "    <tr>\n",
       "      <th>27</th>\n",
       "      <td>187.15983</td>\n",
       "      <td>893.18150</td>\n",
       "    </tr>\n",
       "    <tr>\n",
       "      <th>28</th>\n",
       "      <td>192.75666</td>\n",
       "      <td>934.35500</td>\n",
       "    </tr>\n",
       "    <tr>\n",
       "      <th>29</th>\n",
       "      <td>197.40000</td>\n",
       "      <td>1068.36300</td>\n",
       "    </tr>\n",
       "  </tbody>\n",
       "</table>\n",
       "</div>"
      ],
      "text/plain": [
       "        Price  Prediction\n",
       "0   123.65499   196.02499\n",
       "1   125.45500   198.04883\n",
       "2   108.58483   198.93233\n",
       "3   118.67466   200.54300\n",
       "4   121.33866   210.30750\n",
       "5   120.65533   225.02000\n",
       "6   121.79500   248.25333\n",
       "7   123.03300   262.32666\n",
       "8   124.04900   294.48699\n",
       "9   125.96116   331.10325\n",
       "10  125.27966   285.88750\n",
       "11  125.92750   304.97974\n",
       "12  126.38333   338.13700\n",
       "13  135.24199   357.48000\n",
       "14  133.20333   402.95400\n",
       "15  142.76333   409.10375\n",
       "16  137.92333   420.21649\n",
       "17  142.95166   437.29725\n",
       "18  152.55183   510.60250\n",
       "19  160.33883   693.65000\n",
       "20  164.31499   531.54249\n",
       "21  177.63333   574.71599\n",
       "22  188.29716   681.33000\n",
       "23  200.70166   774.18000\n",
       "24  180.35500   746.19374\n",
       "25  175.03166   768.84750\n",
       "26  177.69650   789.36475\n",
       "27  187.15983   893.18150\n",
       "28  192.75666   934.35500\n",
       "29  197.40000  1068.36300"
      ]
     },
     "execution_count": 7,
     "metadata": {},
     "output_type": "execute_result"
    }
   ],
   "source": [
    "data.head(30)"
   ]
  },
  {
   "cell_type": "code",
   "execution_count": 8,
   "metadata": {
    "colab": {
     "base_uri": "https://localhost:8080/",
     "height": 266
    },
    "id": "NBfO3A6Yp60S",
    "outputId": "3dc5db6f-47ed-45a9-bdcd-3785b073b4d6"
   },
   "outputs": [
    {
     "data": {
      "text/html": [
       "<div>\n",
       "<style scoped>\n",
       "    .dataframe tbody tr th:only-of-type {\n",
       "        vertical-align: middle;\n",
       "    }\n",
       "\n",
       "    .dataframe tbody tr th {\n",
       "        vertical-align: top;\n",
       "    }\n",
       "\n",
       "    .dataframe thead th {\n",
       "        text-align: right;\n",
       "    }\n",
       "</style>\n",
       "<table border=\"1\" class=\"dataframe\">\n",
       "  <thead>\n",
       "    <tr style=\"text-align: right;\">\n",
       "      <th></th>\n",
       "      <th>Price</th>\n",
       "      <th>Prediction</th>\n",
       "    </tr>\n",
       "  </thead>\n",
       "  <tbody>\n",
       "    <tr>\n",
       "      <th>2785</th>\n",
       "      <td>43144.471291</td>\n",
       "      <td>NaN</td>\n",
       "    </tr>\n",
       "    <tr>\n",
       "      <th>2786</th>\n",
       "      <td>43196.046480</td>\n",
       "      <td>NaN</td>\n",
       "    </tr>\n",
       "    <tr>\n",
       "      <th>2787</th>\n",
       "      <td>39439.237635</td>\n",
       "      <td>NaN</td>\n",
       "    </tr>\n",
       "    <tr>\n",
       "      <th>2788</th>\n",
       "      <td>39756.089849</td>\n",
       "      <td>NaN</td>\n",
       "    </tr>\n",
       "    <tr>\n",
       "      <th>2789</th>\n",
       "      <td>36921.767808</td>\n",
       "      <td>NaN</td>\n",
       "    </tr>\n",
       "    <tr>\n",
       "      <th>2790</th>\n",
       "      <td>37490.941888</td>\n",
       "      <td>NaN</td>\n",
       "    </tr>\n",
       "    <tr>\n",
       "      <th>2791</th>\n",
       "      <td>34259.548416</td>\n",
       "      <td>NaN</td>\n",
       "    </tr>\n",
       "  </tbody>\n",
       "</table>\n",
       "</div>"
      ],
      "text/plain": [
       "             Price  Prediction\n",
       "2785  43144.471291         NaN\n",
       "2786  43196.046480         NaN\n",
       "2787  39439.237635         NaN\n",
       "2788  39756.089849         NaN\n",
       "2789  36921.767808         NaN\n",
       "2790  37490.941888         NaN\n",
       "2791  34259.548416         NaN"
      ]
     },
     "execution_count": 8,
     "metadata": {},
     "output_type": "execute_result"
    }
   ],
   "source": [
    "data.tail(7)"
   ]
  },
  {
   "cell_type": "code",
   "execution_count": 9,
   "metadata": {
    "colab": {
     "base_uri": "https://localhost:8080/"
    },
    "id": "uJ53Mw352s5Z",
    "outputId": "2a0baafd-6491-4f2f-b209-d4c5017f8504"
   },
   "outputs": [
    {
     "name": "stdout",
     "output_type": "stream",
     "text": [
      "[[  123.65499   ]\n",
      " [  125.455     ]\n",
      " [  108.58483   ]\n",
      " ...\n",
      " [54144.42747606]\n",
      " [51965.05955941]\n",
      " [50669.14438218]]\n"
     ]
    }
   ],
   "source": [
    "X = np.array(data.drop(['Prediction'],1))\n",
    "X=X[:len(data)-prediction_days]\n",
    "print(X)"
   ]
  },
  {
   "cell_type": "code",
   "execution_count": 10,
   "metadata": {
    "id": "SOxXG70H3ZkH"
   },
   "outputs": [],
   "source": [
    "Y = np.array(data.drop(['Price'],1))\n",
    "Y=Y[:len(data)-prediction_days]"
   ]
  },
  {
   "cell_type": "code",
   "execution_count": 11,
   "metadata": {
    "colab": {
     "base_uri": "https://localhost:8080/"
    },
    "id": "_trEF89J3bbX",
    "outputId": "48de90be-cdc9-4a12-ceb9-9a3405a11403"
   },
   "outputs": [
    {
     "data": {
      "text/plain": [
       "array([[  196.02499   ],\n",
       "       [  198.04883   ],\n",
       "       [  198.93233   ],\n",
       "       ...,\n",
       "       [36921.76780796],\n",
       "       [37490.9418876 ],\n",
       "       [34259.54841587]])"
      ]
     },
     "execution_count": 11,
     "metadata": {},
     "output_type": "execute_result"
    }
   ],
   "source": [
    "Y"
   ]
  },
  {
   "cell_type": "code",
   "execution_count": 12,
   "metadata": {
    "id": "eqpHMzR0308I"
   },
   "outputs": [],
   "source": [
    "from sklearn.model_selection import train_test_split\n",
    "X_train,X_test,Y_train,Y_test=train_test_split(X,Y, test_size=0.2)"
   ]
  },
  {
   "cell_type": "code",
   "execution_count": 13,
   "metadata": {
    "id": "fpeapFBV4tiI"
   },
   "outputs": [],
   "source": [
    "prediction_days_array=np.array(data.drop(['Prediction'],1))[-prediction_days:]"
   ]
  },
  {
   "cell_type": "code",
   "execution_count": 14,
   "metadata": {
    "colab": {
     "base_uri": "https://localhost:8080/"
    },
    "id": "hyAbOSxT5DAk",
    "outputId": "b44fb1fa-0233-4ca8-c845-025ecb85687d"
   },
   "outputs": [
    {
     "name": "stderr",
     "output_type": "stream",
     "text": [
      "c:\\python37\\lib\\site-packages\\sklearn\\utils\\validation.py:63: DataConversionWarning: A column-vector y was passed when a 1d array was expected. Please change the shape of y to (n_samples, ), for example using ravel().\n",
      "  return f(*args, **kwargs)\n"
     ]
    },
    {
     "data": {
      "text/plain": [
       "SVR(C=1000.0, gamma=1e-07)"
      ]
     },
     "execution_count": 14,
     "metadata": {},
     "output_type": "execute_result"
    }
   ],
   "source": [
    "from sklearn.svm import SVR\n",
    "svr_rbf=SVR(kernel='rbf',C=1e3,gamma=0.0000001)\n",
    "svr_rbf.fit(X_train,Y_train)"
   ]
  },
  {
   "cell_type": "code",
   "execution_count": 15,
   "metadata": {
    "colab": {
     "base_uri": "https://localhost:8080/"
    },
    "id": "k-30mn2i5Hjj",
    "outputId": "a04721f4-0e77-469b-b2fd-e8f8fc9f6b95"
   },
   "outputs": [
    {
     "data": {
      "text/plain": [
       "0.9237838554917326"
      ]
     },
     "execution_count": 15,
     "metadata": {},
     "output_type": "execute_result"
    }
   ],
   "source": [
    "svr_rbf_confidence=svr_rbf.score(X_test,Y_test)\n",
    "svr_rbf_confidence"
   ]
  },
  {
   "cell_type": "code",
   "execution_count": 16,
   "metadata": {
    "id": "iKdp8bSa6HnZ"
   },
   "outputs": [],
   "source": [
    "svm_prediction=svr_rbf.predict(X_test)\n",
    "a=pd.DataFrame(svm_prediction)\n",
    "a['actual']=Y_test"
   ]
  },
  {
   "cell_type": "code",
   "execution_count": 17,
   "metadata": {
    "colab": {
     "base_uri": "https://localhost:8080/",
     "height": 204
    },
    "id": "T-FmFWI968Lo",
    "outputId": "9187caa9-466e-4e93-de7b-356132b7ff0f"
   },
   "outputs": [
    {
     "data": {
      "text/html": [
       "<div>\n",
       "<style scoped>\n",
       "    .dataframe tbody tr th:only-of-type {\n",
       "        vertical-align: middle;\n",
       "    }\n",
       "\n",
       "    .dataframe tbody tr th {\n",
       "        vertical-align: top;\n",
       "    }\n",
       "\n",
       "    .dataframe thead th {\n",
       "        text-align: right;\n",
       "    }\n",
       "</style>\n",
       "<table border=\"1\" class=\"dataframe\">\n",
       "  <thead>\n",
       "    <tr style=\"text-align: right;\">\n",
       "      <th></th>\n",
       "      <th>0</th>\n",
       "      <th>actual</th>\n",
       "    </tr>\n",
       "  </thead>\n",
       "  <tbody>\n",
       "    <tr>\n",
       "      <th>548</th>\n",
       "      <td>295.366090</td>\n",
       "      <td>269.260600</td>\n",
       "    </tr>\n",
       "    <tr>\n",
       "      <th>549</th>\n",
       "      <td>9285.027216</td>\n",
       "      <td>9172.588333</td>\n",
       "    </tr>\n",
       "    <tr>\n",
       "      <th>550</th>\n",
       "      <td>40205.572011</td>\n",
       "      <td>46642.606077</td>\n",
       "    </tr>\n",
       "    <tr>\n",
       "      <th>551</th>\n",
       "      <td>7126.550820</td>\n",
       "      <td>4178.603828</td>\n",
       "    </tr>\n",
       "    <tr>\n",
       "      <th>552</th>\n",
       "      <td>349.439296</td>\n",
       "      <td>286.688000</td>\n",
       "    </tr>\n",
       "  </tbody>\n",
       "</table>\n",
       "</div>"
      ],
      "text/plain": [
       "                0        actual\n",
       "548    295.366090    269.260600\n",
       "549   9285.027216   9172.588333\n",
       "550  40205.572011  46642.606077\n",
       "551   7126.550820   4178.603828\n",
       "552    349.439296    286.688000"
      ]
     },
     "execution_count": 17,
     "metadata": {},
     "output_type": "execute_result"
    }
   ],
   "source": [
    "a.tail()"
   ]
  },
  {
   "cell_type": "code",
   "execution_count": 18,
   "metadata": {
    "colab": {
     "base_uri": "https://localhost:8080/"
    },
    "id": "s2X3nwJR69VA",
    "outputId": "8d2c4ba4-923d-4665-adf0-7437af2c477e"
   },
   "outputs": [
    {
     "name": "stdout",
     "output_type": "stream",
     "text": [
      "               0\n",
      "0   38817.984694\n",
      "1   41385.269735\n",
      "2   39257.862817\n",
      "3   42789.030361\n",
      "4   41419.472316\n",
      "5   38809.698693\n",
      "6   47447.798596\n",
      "7   47659.850258\n",
      "8   46076.716779\n",
      "9   47403.269592\n",
      "10  39428.040951\n",
      "11  47400.708651\n",
      "12  46397.282632\n",
      "13  47239.604900\n",
      "14  46743.522324\n",
      "15  47581.960492\n",
      "16  44361.418639\n",
      "17  46377.081773\n",
      "18  37986.793477\n",
      "19  40111.666169\n",
      "20  39738.679833\n",
      "21  41460.030868\n",
      "22  37705.176794\n",
      "23  32750.071798\n",
      "24  32798.040169\n",
      "25  36675.419812\n",
      "26  36014.792023\n",
      "27  40654.150943\n",
      "28  40053.292703\n",
      "29  40933.459876\n",
      "             Price  Prediction\n",
      "2762  50733.769504         NaN\n",
      "2763  48542.952203         NaN\n",
      "2764  53558.707845         NaN\n",
      "2765  55123.861981         NaN\n",
      "2766  54591.515326         NaN\n",
      "2767  53260.295341         NaN\n",
      "2768  57302.646424         NaN\n",
      "2769  57677.975222         NaN\n",
      "2770  56427.043125         NaN\n",
      "2771  57255.306838         NaN\n",
      "2772  53658.843121         NaN\n",
      "2773  57252.702185         NaN\n",
      "2774  56583.849879         NaN\n",
      "2775  57107.120672         NaN\n",
      "2776  58788.209679         NaN\n",
      "2777  58102.191426         NaN\n",
      "2778  55715.546651         NaN\n",
      "2779  56573.555472         NaN\n",
      "2780  52147.821187         NaN\n",
      "2781  49764.132082         NaN\n",
      "2782  50032.693137         NaN\n",
      "2783  47885.625255         NaN\n",
      "2784  45604.615754         NaN\n",
      "2785  43144.471291         NaN\n",
      "2786  43196.046480         NaN\n",
      "2787  39439.237635         NaN\n",
      "2788  39756.089849         NaN\n",
      "2789  36921.767808         NaN\n",
      "2790  37490.941888         NaN\n",
      "2791  34259.548416         NaN\n"
     ]
    }
   ],
   "source": [
    "svm_prediction_a=svr_rbf.predict(prediction_days_array)\n",
    "b=pd.DataFrame(svm_prediction_a)\n",
    "print(b)\n",
    "print(data.tail(prediction_days))"
   ]
  },
  {
   "cell_type": "code",
   "execution_count": 19,
   "metadata": {
    "id": "kIcpEAFq81V4"
   },
   "outputs": [],
   "source": [
    "from pickle import dump\n",
    "dump(svr_rbf,open(\"bitcoin_predictor.pkl\",\"wb\"))\n"
   ]
  },
  {
   "cell_type": "code",
   "execution_count": null,
   "metadata": {},
   "outputs": [],
   "source": []
  }
 ],
 "metadata": {
  "colab": {
   "name": "Untitled0.ipynb",
   "provenance": []
  },
  "kernelspec": {
   "display_name": "Python 3",
   "language": "python",
   "name": "python3"
  },
  "language_info": {
   "codemirror_mode": {
    "name": "ipython",
    "version": 3
   },
   "file_extension": ".py",
   "mimetype": "text/x-python",
   "name": "python",
   "nbconvert_exporter": "python",
   "pygments_lexer": "ipython3",
   "version": "3.7.3"
  }
 },
 "nbformat": 4,
 "nbformat_minor": 1
}
